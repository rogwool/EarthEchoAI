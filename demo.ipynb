# Earth Echo AI – Demo Notebook
# Author: Roger [Your Last Name]
# Purpose: Visualize Earth-like signals and sketch ML pipeline for technosignature detection

import numpy as np
import matplotlib.pyplot as plt
from scipy.fft import fft, fftfreq

# Simulate a synthetic Earth-like signal (e.g., FM broadcast)
fs = 1000  # Sampling frequency (Hz)
t = np.linspace(0.0, 1.0, fs)
signal = np.sin(2.0 * np.pi * 60.0 * t) + 0.5 * np.sin(2.0 * np.pi * 120.0 * t)

# Plot time-domain signal
plt.figure(figsize=(10, 4))
plt.plot(t, signal)
plt.title("Synthetic Earth-like Signal (Time Domain)")
plt.xlabel("Time [s]")
plt.ylabel("Amplitude")
plt.grid()
plt.show()

# Compute FFT
yf = fft(signal)
xf = fftfreq(fs, 1 / fs)

# Plot frequency-domain signal
plt.figure(figsize=(10, 4))
plt.plot(xf[:fs // 2], 2.0 / fs * np.abs(yf[:fs // 2]))
plt.title("Synthetic Earth-like Signal (Frequency Domain)")
plt.xlabel("Frequency [Hz]")
plt.ylabel("Magnitude")
plt.grid()
plt.show()

# Placeholder for ML pipeline sketch
print("Next step: Train ML model to recognize this pattern in SETI data.")
